{
  "nbformat": 4,
  "nbformat_minor": 0,
  "metadata": {
    "colab": {
      "name": "Speech Emotion Recognition.ipynb",
      "provenance": [],
      "collapsed_sections": [],
      "toc_visible": true,
      "include_colab_link": true
    },
    "kernelspec": {
      "name": "python3",
      "display_name": "Python 3"
    }
  },
  "cells": [
    {
      "cell_type": "markdown",
      "metadata": {
        "id": "view-in-github",
        "colab_type": "text"
      },
      "source": [
        "<a href=\"https://colab.research.google.com/github/AniruddhaChidar/Speech-Emotion-Recognition/blob/master/Speech_Emotion_Recognition.ipynb\" target=\"_parent\"><img src=\"https://colab.research.google.com/assets/colab-badge.svg\" alt=\"Open In Colab\"/></a>"
      ]
    },
    {
      "cell_type": "markdown",
      "metadata": {
        "id": "1TrYY3IDe2CB",
        "colab_type": "text"
      },
      "source": [
        "# **Project Done by : Aniruddha Chidar and Sindhu Pawar**\n",
        "\n"
      ]
    },
    {
      "cell_type": "markdown",
      "metadata": {
        "id": "D1ILtEnJVwSG",
        "colab_type": "text"
      },
      "source": [
        "# Downloading and Exploring the dataset"
      ]
    },
    {
      "cell_type": "markdown",
      "metadata": {
        "id": "gL9CFGLuV8ZI",
        "colab_type": "text"
      },
      "source": [
        "Downloading dataset using Kaggle. \\\\\n",
        "[Link to dataset](https://www.kaggle.com/uwrfkaggler/ravdess-emotional-speech-audio) \\\\\n",
        "Link also contains details of dataset. Few of them are : \\\\\n",
        "**Files** \\\\\n",
        "This portion of the RAVDESS contains 1440 files: 60 trials per actor x 24 actors = 1440. The RAVDESS contains 24 professional actors (12 female, 12 male), vocalizing two lexically-matched statements in a neutral North American accent. Speech emotions includes calm, happy, sad, angry, fearful, surprise, and disgust expressions. Each expression is produced at two levels of emotional intensity (normal, strong), with an additional neutral expression.\n",
        " \n",
        "**File naming convention** \\\\\n",
        "Each of the 1440 files has a unique filename. The filename consists of a 7-part numerical identifier (e.g., 03-01-06-01-02-01-12.wav). These identifiers define the stimulus characteristics:\n",
        "\n",
        "Filename identifiers\n",
        "\n",
        "Modality (01 = full-AV, 02 = video-only, 03 = audio-only).\n",
        "\n",
        "Vocal channel (01 = speech, 02 = song).\n",
        "\n",
        "Emotion (01 = neutral, 02 = calm, 03 = happy, 04 = sad, 05 = angry, 06 = fearful, 07 = disgust, 08 = surprised).\n",
        "\n",
        "Emotional intensity (01 = normal, 02 = strong). NOTE: There is no strong intensity for the 'neutral' emotion.\n",
        "\n",
        "Statement (01 = \"Kids are talking by the door\", 02 = \"Dogs are sitting by the door\").\n",
        "\n",
        "Repetition (01 = 1st repetition, 02 = 2nd repetition).\n",
        "\n",
        "Actor (01 to 24. Odd numbered actors are male, even numbered actors are female)."
      ]
    },
    {
      "cell_type": "code",
      "metadata": {
        "id": "0Epr_o3aVOYy",
        "colab_type": "code",
        "colab": {}
      },
      "source": [
        "! pip install -q kaggle"
      ],
      "execution_count": null,
      "outputs": []
    },
    {
      "cell_type": "code",
      "metadata": {
        "id": "Yqw86a45Wh7d",
        "colab_type": "code",
        "colab": {
          "resources": {
            "http://localhost:8080/nbextensions/google.colab/files.js": {
              "data": "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",
              "ok": true,
              "headers": [
                [
                  "content-type",
                  "application/javascript"
                ]
              ],
              "status": 200,
              "status_text": ""
            }
          },
          "base_uri": "https://localhost:8080/",
          "height": 89
        },
        "outputId": "3bc667e3-39cc-4525-84b9-17d6b8738e28"
      },
      "source": [
        "from google.colab import files\n",
        "\n",
        "files.upload()"
      ],
      "execution_count": null,
      "outputs": [
        {
          "output_type": "display_data",
          "data": {
            "text/html": [
              "\n",
              "     <input type=\"file\" id=\"files-2b623016-fd40-4746-9678-9884da8462c1\" name=\"files[]\" multiple disabled\n",
              "        style=\"border:none\" />\n",
              "     <output id=\"result-2b623016-fd40-4746-9678-9884da8462c1\">\n",
              "      Upload widget is only available when the cell has been executed in the\n",
              "      current browser session. Please rerun this cell to enable.\n",
              "      </output>\n",
              "      <script src=\"/nbextensions/google.colab/files.js\"></script> "
            ],
            "text/plain": [
              "<IPython.core.display.HTML object>"
            ]
          },
          "metadata": {
            "tags": []
          }
        },
        {
          "output_type": "stream",
          "text": [
            "Saving kaggle.json to kaggle.json\n"
          ],
          "name": "stdout"
        },
        {
          "output_type": "execute_result",
          "data": {
            "text/plain": [
              "{'kaggle.json': b'{\"username\":\"aniruddhachidar\",\"key\":\"ad8314bbf0163ccf646064ded533487c\"}'}"
            ]
          },
          "metadata": {
            "tags": []
          },
          "execution_count": 2
        }
      ]
    },
    {
      "cell_type": "code",
      "metadata": {
        "id": "AlGo_x1RWk2H",
        "colab_type": "code",
        "colab": {}
      },
      "source": [
        "! mkdir ~/.kaggle\n",
        "! cp kaggle.json ~/.kaggle/\n",
        "! chmod 600 ~/.kaggle/kaggle.json"
      ],
      "execution_count": null,
      "outputs": []
    },
    {
      "cell_type": "code",
      "metadata": {
        "id": "BOxiTdC9W5IL",
        "colab_type": "code",
        "colab": {
          "base_uri": "https://localhost:8080/",
          "height": 68
        },
        "outputId": "db8cdf26-23ae-4e61-a82a-b9f0f6f5d032"
      },
      "source": [
        "!kaggle datasets download -d uwrfkaggler/ravdess-emotional-speech-audio"
      ],
      "execution_count": null,
      "outputs": [
        {
          "output_type": "stream",
          "text": [
            "Downloading ravdess-emotional-speech-audio.zip to /content\n",
            " 97% 417M/429M [00:15<00:00, 31.5MB/s]\n",
            "100% 429M/429M [00:15<00:00, 29.0MB/s]\n"
          ],
          "name": "stdout"
        }
      ]
    },
    {
      "cell_type": "code",
      "metadata": {
        "id": "to1Qf8xkW9Jo",
        "colab_type": "code",
        "colab": {}
      },
      "source": [
        "!mkdir data\n",
        "%cd data/\n",
        "!unzip /content/ravdess-emotional-speech-audio.zip"
      ],
      "execution_count": null,
      "outputs": []
    },
    {
      "cell_type": "code",
      "metadata": {
        "id": "_KtSrPxfZjcK",
        "colab_type": "code",
        "colab": {
          "base_uri": "https://localhost:8080/",
          "height": 54
        },
        "outputId": "fdbb0e03-0ce4-4870-f851-7e6f75331aa0"
      },
      "source": [
        "import os\n",
        "import random\n",
        "import sys\n",
        "\n",
        "dir_list=os.listdir('/content/data')\n",
        "dir_list.sort()\n",
        "print (dir_list)"
      ],
      "execution_count": null,
      "outputs": [
        {
          "output_type": "stream",
          "text": [
            "['Actor_01', 'Actor_02', 'Actor_03', 'Actor_04', 'Actor_05', 'Actor_06', 'Actor_07', 'Actor_08', 'Actor_09', 'Actor_10', 'Actor_11', 'Actor_12', 'Actor_13', 'Actor_14', 'Actor_15', 'Actor_16', 'Actor_17', 'Actor_18', 'Actor_19', 'Actor_20', 'Actor_21', 'Actor_22', 'Actor_23', 'Actor_24', 'audio_speech_actors_01-24']\n"
          ],
          "name": "stdout"
        }
      ]
    },
    {
      "cell_type": "code",
      "metadata": {
        "id": "n8xO61rPXV8L",
        "colab_type": "code",
        "colab": {
          "base_uri": "https://localhost:8080/",
          "height": 54
        },
        "outputId": "48026bce-68ae-4064-dcab-c647cae5da75"
      },
      "source": [
        "dir_list = dir_list[0:24]\n",
        "print (dir_list)"
      ],
      "execution_count": null,
      "outputs": [
        {
          "output_type": "stream",
          "text": [
            "['Actor_01', 'Actor_02', 'Actor_03', 'Actor_04', 'Actor_05', 'Actor_06', 'Actor_07', 'Actor_08', 'Actor_09', 'Actor_10', 'Actor_11', 'Actor_12', 'Actor_13', 'Actor_14', 'Actor_15', 'Actor_16', 'Actor_17', 'Actor_18', 'Actor_19', 'Actor_20', 'Actor_21', 'Actor_22', 'Actor_23', 'Actor_24']\n"
          ],
          "name": "stdout"
        }
      ]
    },
    {
      "cell_type": "code",
      "metadata": {
        "id": "KwAKun2bB5xp",
        "colab_type": "code",
        "colab": {
          "base_uri": "https://localhost:8080/",
          "height": 34
        },
        "outputId": "47184f49-aac8-4adf-c5aa-edb22a846fee"
      },
      "source": [
        "%cd /content\n",
        "import matplotlib.pyplot as plt\n",
        "import numpy as np\n",
        "import pandas as pd\n",
        "import os"
      ],
      "execution_count": null,
      "outputs": [
        {
          "output_type": "stream",
          "text": [
            "/content\n"
          ],
          "name": "stdout"
        }
      ]
    },
    {
      "cell_type": "markdown",
      "metadata": {
        "id": "3CTF5zEJixeN",
        "colab_type": "text"
      },
      "source": [
        "**Exploring Pysoundfile and librosa**"
      ]
    },
    {
      "cell_type": "code",
      "metadata": {
        "id": "C520l8U1B83-",
        "colab_type": "code",
        "colab": {
          "base_uri": "https://localhost:8080/",
          "height": 119
        },
        "outputId": "25c7cf88-bd65-4ad1-8275-b22011f020d6"
      },
      "source": [
        "import librosa\n",
        "import librosa.display\n",
        "!pip install PySoundFile\n",
        "import soundfile as sf"
      ],
      "execution_count": null,
      "outputs": [
        {
          "output_type": "stream",
          "text": [
            "Collecting PySoundFile\n",
            "  Downloading https://files.pythonhosted.org/packages/2a/b3/0b871e5fd31b9a8e54b4ee359384e705a1ca1e2870706d2f081dc7cc1693/PySoundFile-0.9.0.post1-py2.py3-none-any.whl\n",
            "Requirement already satisfied: cffi>=0.6 in /usr/local/lib/python3.6/dist-packages (from PySoundFile) (1.14.0)\n",
            "Requirement already satisfied: pycparser in /usr/local/lib/python3.6/dist-packages (from cffi>=0.6->PySoundFile) (2.20)\n",
            "Installing collected packages: PySoundFile\n",
            "Successfully installed PySoundFile-0.9.0.post1\n"
          ],
          "name": "stdout"
        }
      ]
    },
    {
      "cell_type": "code",
      "metadata": {
        "id": "qtbQS7zQi5Xj",
        "colab_type": "code",
        "colab": {
          "base_uri": "https://localhost:8080/",
          "height": 34
        },
        "outputId": "d20d73d1-64be-46bf-d436-03d64b90e8e3"
      },
      "source": [
        "data, samplerate = sf.read('/content/data/Actor_01/03-01-01-01-01-01-01.wav')\n",
        "\n",
        "data"
      ],
      "execution_count": null,
      "outputs": [
        {
          "output_type": "execute_result",
          "data": {
            "text/plain": [
              "array([0., 0., 0., ..., 0., 0., 0.])"
            ]
          },
          "metadata": {
            "tags": []
          },
          "execution_count": 10
        }
      ]
    },
    {
      "cell_type": "markdown",
      "metadata": {
        "id": "EQXTBgtNjm3Z",
        "colab_type": "text"
      },
      "source": [
        "sf.read loads music file and returns amplitude array . PySoundfile is not working for lower amplitudes it is giving 0 for lower amplitudes"
      ]
    },
    {
      "cell_type": "code",
      "metadata": {
        "id": "hVGbzZZGi-Xt",
        "colab_type": "code",
        "colab": {
          "base_uri": "https://localhost:8080/",
          "height": 51
        },
        "outputId": "01905bc7-0eee-4bcf-9724-5c8094748334"
      },
      "source": [
        "samples, sample_rate = librosa.load('/content/data/Actor_01/03-01-01-01-01-01-01.wav')\n",
        "\n",
        "samples"
      ],
      "execution_count": null,
      "outputs": [
        {
          "output_type": "execute_result",
          "data": {
            "text/plain": [
              "array([ 1.5591205e-07, -1.5845627e-07,  1.5362870e-07, ...,\n",
              "        0.0000000e+00,  0.0000000e+00,  0.0000000e+00], dtype=float32)"
            ]
          },
          "metadata": {
            "tags": []
          },
          "execution_count": 11
        }
      ]
    },
    {
      "cell_type": "markdown",
      "metadata": {
        "id": "Kx33iFGDjVit",
        "colab_type": "text"
      },
      "source": [
        "librosa.load function load the music file convert it to amplitude array ('samples') \\\\\n",
        " Librosa is working for lower values"
      ]
    },
    {
      "cell_type": "markdown",
      "metadata": {
        "id": "MiMi6RqMk7l0",
        "colab_type": "text"
      },
      "source": [
        "PLotting amplitude vs time [Just for fun :)) ]"
      ]
    },
    {
      "cell_type": "code",
      "metadata": {
        "id": "vN2lQ9yhjLZE",
        "colab_type": "code",
        "colab": {
          "base_uri": "https://localhost:8080/",
          "height": 514
        },
        "outputId": "7e1de87d-8e76-4562-92f6-84e1ea47412b"
      },
      "source": [
        "fig = plt.figure(figsize=(14, 8))\n",
        "ax1 = fig.add_subplot()\n",
        "ax1.set_ylabel('Amplitude')\n",
        "librosa.display.waveplot(samples, sr=sample_rate)"
      ],
      "execution_count": null,
      "outputs": [
        {
          "output_type": "execute_result",
          "data": {
            "text/plain": [
              "<matplotlib.collections.PolyCollection at 0x7fd1fd9f14a8>"
            ]
          },
          "metadata": {
            "tags": []
          },
          "execution_count": 12
        },
        {
          "output_type": "display_data",
          "data": {
            "image/png": "[encoded data removed]",
            "text/plain": [
              "<Figure size 1008x576 with 1 Axes>"
            ]
          },
          "metadata": {
            "tags": [],
            "needs_background": "light"
          }
        }
      ]
    },
    {
      "cell_type": "markdown",
      "metadata": {
        "id": "fdsPDPT6Mvve",
        "colab_type": "text"
      },
      "source": [
        "# **Training with Deep Neural Net**"
      ]
    },
    {
      "cell_type": "markdown",
      "metadata": {
        "id": "py7naWYYMqaL",
        "colab_type": "text"
      },
      "source": [
        "**Pre-Processing the data**"
      ]
    },
    {
      "cell_type": "code",
      "metadata": {
        "id": "65OJKagAkSeK",
        "colab_type": "code",
        "colab": {
          "base_uri": "https://localhost:8080/",
          "height": 34
        },
        "outputId": "67feb588-5498-44ca-dcd0-aaecfb510061"
      },
      "source": [
        "#All library imports\n",
        "%matplotlib inline\n",
        "import csv\n",
        "import random\n",
        "# Preprocessing\n",
        "from sklearn.model_selection import train_test_split\n",
        "from sklearn.preprocessing import LabelEncoder, StandardScaler\n",
        "#Keras\n",
        "import tensorflow as tf\n",
        "#This is simply a linear stack of neural network layers, and it's perfect for the type of feed-forward CNN\n",
        "from keras.models import Sequential\n",
        "#keras core layers\n",
        "from keras.layers import Dense, Dropout, Activation, Flatten\n",
        "#These are the convolutional layers that will help us efficiently train on the data\n",
        "from keras.layers import Convolution2D, MaxPooling2D\n",
        "#Utilities\n",
        "from keras.utils import np_utils"
      ],
      "execution_count": null,
      "outputs": [
        {
          "output_type": "stream",
          "text": [
            "Using TensorFlow backend.\n"
          ],
          "name": "stderr"
        }
      ]
    },
    {
      "cell_type": "code",
      "metadata": {
        "id": "-yfdRv2VGI4k",
        "colab_type": "code",
        "colab": {}
      },
      "source": [
        "def flatten(l):\n",
        "  flattened_list = [y for x in l for y in x]\n",
        "  return flattened_list"
      ],
      "execution_count": null,
      "outputs": []
    },
    {
      "cell_type": "code",
      "metadata": {
        "id": "U3Tn2wezF51a",
        "colab_type": "code",
        "colab": {}
      },
      "source": [
        "X = []\n",
        "Y = []\n",
        "curr_dir = \"/content/data/\"\n",
        "for i in dir_list:\n",
        "  dir_path = os.path.join(curr_dir,i)\n",
        "  for j in os.listdir(dir_path):\n",
        "    features = []\n",
        "    songname = os.path.join(dir_path,j)\n",
        "    p = j.split(\"-\")\n",
        "    y, sr = librosa.load(songname)\n",
        "    chroma_stft = librosa.feature.chroma_stft(y=y, sr=sr)\n",
        "    rmse = librosa.feature.rmse(y=y)\n",
        "    spec_cent = librosa.feature.spectral_centroid(y=y, sr=sr)\n",
        "    spec_bw = librosa.feature.spectral_bandwidth(y=y, sr=sr)\n",
        "    rolloff = librosa.feature.spectral_rolloff(y=y, sr=sr)\n",
        "    zcr = librosa.feature.zero_crossing_rate(y)\n",
        "    mfcc = librosa.feature.mfcc(y=y, sr=sr)\n",
        "    features.append(np.mean(chroma_stft))\n",
        "    features.append(np.mean(rmse))\n",
        "    features.append(np.mean(spec_cent))\n",
        "    features.append(np.mean(spec_bw))\n",
        "    features.append(np.mean(rolloff))\n",
        "    features.append(np.mean(zcr))\n",
        "    for e in mfcc:\n",
        "      features.append(np.mean(mfcc))\n",
        "    # flattened_list = flatten(features)\n",
        "    # print(np.asarray(flattened_list).shape)\n",
        "    X.append(features)\n",
        "    Y.append(int(p[2])-1)\n",
        "X = np.asarray(X)\n",
        "Y = np.asarray(Y)\n",
        "print(Y.shape)"
      ],
      "execution_count": null,
      "outputs": []
    },
    {
      "cell_type": "code",
      "metadata": {
        "id": "_26iWxsHLUbQ",
        "colab_type": "code",
        "colab": {
          "base_uri": "https://localhost:8080/",
          "height": 34
        },
        "outputId": "4b9d9c98-f278-4686-e1ae-7cd836b37797"
      },
      "source": [
        "X.shape"
      ],
      "execution_count": null,
      "outputs": [
        {
          "output_type": "stream",
          "text": [
            "(150,)\n"
          ],
          "name": "stdout"
        }
      ]
    },
    {
      "cell_type": "code",
      "metadata": {
        "id": "w_us8flVF-AJ",
        "colab_type": "code",
        "colab": {
          "base_uri": "https://localhost:8080/",
          "height": 51
        },
        "outputId": "5ced7bcd-11b1-4134-fbdb-6ae621177442"
      },
      "source": [
        "X_train, X_test, y_train, y_test = train_test_split(X, Y, test_size=0.2, random_state=1)"
      ],
      "execution_count": null,
      "outputs": [
        {
          "output_type": "stream",
          "text": [
            "1440\n",
            "1440\n"
          ],
          "name": "stdout"
        }
      ]
    },
    {
      "cell_type": "code",
      "metadata": {
        "id": "I9DXm27mGnN0",
        "colab_type": "code",
        "colab": {}
      },
      "source": [
        "#declaring the model\n",
        "model = Sequential()"
      ],
      "execution_count": null,
      "outputs": []
    },
    {
      "cell_type": "code",
      "metadata": {
        "id": "S_1XneIgGpfb",
        "colab_type": "code",
        "colab": {}
      },
      "source": [
        "# `#designing the model\n",
        "# model.add(Convolution2D(32, (3, 3), activation='relu', input_shape=(1,37,166), data_format='channels_first'))\n",
        "# model.add(Convolution2D(32, 3, 3, activation='relu'))\n",
        "# model.add(MaxPooling2D(pool_size=(2,2)))\n",
        "# model.add(Dropout(0.25))\n",
        " \n",
        "# model.add(Flatten())\n",
        "# model.add(Dense(128, activation='relu'))\n",
        "# model.add(Dropout(0.5))\n",
        "# model.add(Dense(10, activation='softmax'))\n",
        "model.add(Dense(64, activation='relu', input_shape=(26,)))\n",
        "model.add(Dense(32, activation='relu'))\n",
        "model.add(Dense(16, activation='relu'))\n",
        "model.add(Dense(8, activation='softmax'))"
      ],
      "execution_count": null,
      "outputs": []
    },
    {
      "cell_type": "code",
      "metadata": {
        "id": "5Fi6N827GuuH",
        "colab_type": "code",
        "colab": {}
      },
      "source": [
        "model.compile(optimizer='adam',\n",
        "              loss='sparse_categorical_crossentropy',\n",
        "              metrics=['accuracy'])"
      ],
      "execution_count": null,
      "outputs": []
    },
    {
      "cell_type": "code",
      "metadata": {
        "id": "HQjpnnQoasY0",
        "colab_type": "code",
        "colab": {}
      },
      "source": [
        "history = model.fit(X_train,\n",
        "                    y_train,\n",
        "                    epochs=5,\n",
        "                    batch_size=16)"
      ],
      "execution_count": null,
      "outputs": []
    },
    {
      "cell_type": "markdown",
      "metadata": {
        "id": "RoJ7Yu5f4CZZ",
        "colab_type": "text"
      },
      "source": [
        "# **Training With CNN**"
      ]
    },
    {
      "cell_type": "markdown",
      "metadata": {
        "id": "_eWGympzK57W",
        "colab_type": "text"
      },
      "source": [
        "**Moving audio on the basis of labels**"
      ]
    },
    {
      "cell_type": "code",
      "metadata": {
        "id": "LC3HliKr4NVV",
        "colab_type": "code",
        "colab": {
          "base_uri": "https://localhost:8080/",
          "height": 34
        },
        "outputId": "0cc7c65b-542f-4a4c-f731-26ec126456fe"
      },
      "source": [
        "import os\n",
        "import shutil\n",
        "\n",
        "%cd /content\n",
        "curr_dir = os.getcwd()\n",
        "features = [\"neutral\", \"calm\", \"happy\", \"sad\", \"angry\", \"fearful\", \"disgust\", \"surprised\"]\n",
        "for i in features:\n",
        "  os.mkdir(os.path.join(curr_dir,i))\n",
        "data_dir = '/content/data'\n",
        "for dirs in dir_list:\n",
        "  curr_path = os.path.join(data_dir,dirs)\n",
        "  # print(\"Ani\",curr_path)\n",
        "  for f in os.listdir(curr_path):\n",
        "    curr_sub_path = os.path.join(curr_path, f)\n",
        "    p = f.split(\"-\")\n",
        "    dire = int(p[2])-1\n",
        "    source = curr_sub_path\n",
        "    destination = os.path.join(curr_dir,features[dire])\n",
        "    shutil.move(source, destination, copy_function = shutil.copytree)"
      ],
      "execution_count": null,
      "outputs": [
        {
          "output_type": "stream",
          "text": [
            "/content\n"
          ],
          "name": "stdout"
        }
      ]
    },
    {
      "cell_type": "markdown",
      "metadata": {
        "id": "XbrsCRptLLDs",
        "colab_type": "text"
      },
      "source": [
        "**Extracting Features from audio**"
      ]
    },
    {
      "cell_type": "code",
      "metadata": {
        "id": "NbY6Nv8e4bY2",
        "colab_type": "code",
        "colab": {}
      },
      "source": [
        "header = 'filename chroma_stft rmse spectral_centroid spectral_bandwidth rolloff zero_crossing_rate'\n",
        "for i in range(1, 21):\n",
        "    header += f' mfcc{i}'\n",
        "header += ' label'\n",
        "header = header.split()"
      ],
      "execution_count": null,
      "outputs": []
    },
    {
      "cell_type": "code",
      "metadata": {
        "id": "lsSW28dQ4iv_",
        "colab_type": "code",
        "colab": {
          "base_uri": "https://localhost:8080/",
          "height": 493
        },
        "outputId": "22717c1a-9014-450e-9c26-e8cf4abe48b0"
      },
      "source": [
        "header"
      ],
      "execution_count": null,
      "outputs": [
        {
          "output_type": "execute_result",
          "data": {
            "text/plain": [
              "['filename',\n",
              " 'chroma_stft',\n",
              " 'rmse',\n",
              " 'spectral_centroid',\n",
              " 'spectral_bandwidth',\n",
              " 'rolloff',\n",
              " 'zero_crossing_rate',\n",
              " 'mfcc1',\n",
              " 'mfcc2',\n",
              " 'mfcc3',\n",
              " 'mfcc4',\n",
              " 'mfcc5',\n",
              " 'mfcc6',\n",
              " 'mfcc7',\n",
              " 'mfcc8',\n",
              " 'mfcc9',\n",
              " 'mfcc10',\n",
              " 'mfcc11',\n",
              " 'mfcc12',\n",
              " 'mfcc13',\n",
              " 'mfcc14',\n",
              " 'mfcc15',\n",
              " 'mfcc16',\n",
              " 'mfcc17',\n",
              " 'mfcc18',\n",
              " 'mfcc19',\n",
              " 'mfcc20',\n",
              " 'label']"
            ]
          },
          "metadata": {
            "tags": []
          },
          "execution_count": 13
        }
      ]
    },
    {
      "cell_type": "code",
      "metadata": {
        "id": "aFLPRi3D4lWl",
        "colab_type": "code",
        "colab": {}
      },
      "source": [
        "import csv\n",
        "\n",
        "file = open('data1.csv', 'w', newline='')\n",
        "with file:\n",
        "    writer = csv.writer(file)\n",
        "    writer.writerow(header)"
      ],
      "execution_count": null,
      "outputs": []
    },
    {
      "cell_type": "code",
      "metadata": {
        "id": "3At_Q0Jb4o9D",
        "colab_type": "code",
        "colab": {}
      },
      "source": [
        "labels = [\"neutral\", \"calm\", \"happy\", \"sad\", \"angry\", \"fearful\", \"disgust\", \"surprised\"]"
      ],
      "execution_count": null,
      "outputs": []
    },
    {
      "cell_type": "markdown",
      "metadata": {
        "id": "SpjyHgZoLd9J",
        "colab_type": "text"
      },
      "source": [
        "**Saving features in a CSV file**"
      ]
    },
    {
      "cell_type": "code",
      "metadata": {
        "id": "PXYcMwNb4qy-",
        "colab_type": "code",
        "colab": {}
      },
      "source": [
        "import numpy as np\n",
        "\n",
        "for label in labels:\n",
        "  for filename in os.listdir(f'./{label}'):\n",
        "    audio = f'./{label}/{filename}'\n",
        "    y, sr = librosa.load(audio) # see link here change made\n",
        "\n",
        "    chroma_stft = librosa.feature.chroma_stft(y=y, sr=sr)\n",
        "    rmse = librosa.feature.rmse(y=y)\n",
        "    spec_cent = librosa.feature.spectral_centroid(y=y, sr=sr)\n",
        "    spec_bw = librosa.feature.spectral_bandwidth(y=y, sr=sr)\n",
        "    rolloff = librosa.feature.spectral_rolloff(y=y, sr=sr)\n",
        "    zcr = librosa.feature.zero_crossing_rate(y)\n",
        "    mfcc = librosa.feature.mfcc(y=y, sr=sr)\n",
        "    # to_append = f'{filename}'\n",
        "    to_append = f'{filename} {np.mean(chroma_stft)} {np.mean(rmse)} {np.mean(spec_cent)} {np.mean(spec_bw)} {np.mean(rolloff)} {np.mean(zcr)}' \n",
        "    \n",
        "    for e in mfcc:\n",
        "      to_append += f' {np.mean(e)}'\n",
        "    \n",
        "    to_append += f' {label}'\n",
        "\n",
        "    file = open('data1.csv', 'a', newline='')\n",
        "    with file:\n",
        "      writer = csv.writer(file)\n",
        "      writer.writerow(to_append.split())"
      ],
      "execution_count": null,
      "outputs": []
    },
    {
      "cell_type": "markdown",
      "metadata": {
        "id": "oqwXNYUILorq",
        "colab_type": "text"
      },
      "source": [
        "**Checking the created feature set**"
      ]
    },
    {
      "cell_type": "code",
      "metadata": {
        "id": "TPuibSIM4t27",
        "colab_type": "code",
        "colab": {
          "base_uri": "https://localhost:8080/",
          "height": 394
        },
        "outputId": "c3cb1456-70d8-43b2-a6f2-9efed806ba19"
      },
      "source": [
        "import pandas as pd\n",
        "\n",
        "data = pd.read_csv('26 Features.csv')\n",
        "data.head()"
      ],
      "execution_count": null,
      "outputs": [
        {
          "output_type": "execute_result",
          "data": {
            "text/html": [
              "<div>\n",
              "<style scoped>\n",
              "    .dataframe tbody tr th:only-of-type {\n",
              "        vertical-align: middle;\n",
              "    }\n",
              "\n",
              "    .dataframe tbody tr th {\n",
              "        vertical-align: top;\n",
              "    }\n",
              "\n",
              "    .dataframe thead th {\n",
              "        text-align: right;\n",
              "    }\n",
              "</style>\n",
              "<table border=\"1\" class=\"dataframe\">\n",
              "  <thead>\n",
              "    <tr style=\"text-align: right;\">\n",
              "      <th></th>\n",
              "      <th>filename</th>\n",
              "      <th>chroma_stft</th>\n",
              "      <th>rmse</th>\n",
              "      <th>spectral_centroid</th>\n",
              "      <th>spectral_bandwidth</th>\n",
              "      <th>rolloff</th>\n",
              "      <th>zero_crossing_rate</th>\n",
              "      <th>mfcc1</th>\n",
              "      <th>mfcc2</th>\n",
              "      <th>mfcc3</th>\n",
              "      <th>mfcc4</th>\n",
              "      <th>mfcc5</th>\n",
              "      <th>mfcc6</th>\n",
              "      <th>mfcc7</th>\n",
              "      <th>mfcc8</th>\n",
              "      <th>mfcc9</th>\n",
              "      <th>mfcc10</th>\n",
              "      <th>mfcc11</th>\n",
              "      <th>mfcc12</th>\n",
              "      <th>mfcc13</th>\n",
              "      <th>mfcc14</th>\n",
              "      <th>mfcc15</th>\n",
              "      <th>mfcc16</th>\n",
              "      <th>mfcc17</th>\n",
              "      <th>mfcc18</th>\n",
              "      <th>mfcc19</th>\n",
              "      <th>mfcc20</th>\n",
              "      <th>label</th>\n",
              "    </tr>\n",
              "  </thead>\n",
              "  <tbody>\n",
              "    <tr>\n",
              "      <th>0</th>\n",
              "      <td>03-01-01-01-01-02-20.wav</td>\n",
              "      <td>0.374177</td>\n",
              "      <td>0.002145</td>\n",
              "      <td>2748.073765</td>\n",
              "      <td>2072.097885</td>\n",
              "      <td>4917.051003</td>\n",
              "      <td>0.284351</td>\n",
              "      <td>-706.432786</td>\n",
              "      <td>35.496908</td>\n",
              "      <td>-8.155031</td>\n",
              "      <td>9.848638</td>\n",
              "      <td>-7.176390</td>\n",
              "      <td>-8.942563</td>\n",
              "      <td>-6.918020</td>\n",
              "      <td>-11.706051</td>\n",
              "      <td>-5.992924</td>\n",
              "      <td>-3.611805</td>\n",
              "      <td>-5.465997</td>\n",
              "      <td>-4.442113</td>\n",
              "      <td>-6.207190</td>\n",
              "      <td>-0.123033</td>\n",
              "      <td>-7.738519</td>\n",
              "      <td>-4.664395</td>\n",
              "      <td>-4.200657</td>\n",
              "      <td>-3.216294</td>\n",
              "      <td>-2.571037</td>\n",
              "      <td>-1.924078</td>\n",
              "      <td>neutral</td>\n",
              "    </tr>\n",
              "    <tr>\n",
              "      <th>1</th>\n",
              "      <td>03-01-01-01-01-01-21.wav</td>\n",
              "      <td>0.514040</td>\n",
              "      <td>0.005617</td>\n",
              "      <td>2635.308499</td>\n",
              "      <td>2617.477267</td>\n",
              "      <td>5518.337314</td>\n",
              "      <td>0.318498</td>\n",
              "      <td>-593.692179</td>\n",
              "      <td>66.016126</td>\n",
              "      <td>3.537092</td>\n",
              "      <td>13.301964</td>\n",
              "      <td>8.731569</td>\n",
              "      <td>-5.703422</td>\n",
              "      <td>3.174863</td>\n",
              "      <td>-3.922184</td>\n",
              "      <td>-9.186676</td>\n",
              "      <td>-0.027223</td>\n",
              "      <td>-0.879788</td>\n",
              "      <td>-3.754386</td>\n",
              "      <td>-1.044610</td>\n",
              "      <td>2.080261</td>\n",
              "      <td>-2.529025</td>\n",
              "      <td>-1.679427</td>\n",
              "      <td>-3.109143</td>\n",
              "      <td>-0.230662</td>\n",
              "      <td>-1.051353</td>\n",
              "      <td>-0.647632</td>\n",
              "      <td>neutral</td>\n",
              "    </tr>\n",
              "    <tr>\n",
              "      <th>2</th>\n",
              "      <td>03-01-01-01-01-01-17.wav</td>\n",
              "      <td>0.533544</td>\n",
              "      <td>0.003920</td>\n",
              "      <td>2212.645689</td>\n",
              "      <td>2641.883324</td>\n",
              "      <td>5181.718868</td>\n",
              "      <td>0.150317</td>\n",
              "      <td>-643.827154</td>\n",
              "      <td>74.381502</td>\n",
              "      <td>9.611290</td>\n",
              "      <td>19.574376</td>\n",
              "      <td>17.023197</td>\n",
              "      <td>7.772526</td>\n",
              "      <td>9.730835</td>\n",
              "      <td>-5.034177</td>\n",
              "      <td>-4.459086</td>\n",
              "      <td>6.967548</td>\n",
              "      <td>-1.243890</td>\n",
              "      <td>1.087277</td>\n",
              "      <td>5.137967</td>\n",
              "      <td>2.759696</td>\n",
              "      <td>2.186184</td>\n",
              "      <td>0.945733</td>\n",
              "      <td>-1.015387</td>\n",
              "      <td>-0.527130</td>\n",
              "      <td>-0.152282</td>\n",
              "      <td>3.503895</td>\n",
              "      <td>neutral</td>\n",
              "    </tr>\n",
              "    <tr>\n",
              "      <th>3</th>\n",
              "      <td>03-01-01-01-01-01-11.wav</td>\n",
              "      <td>0.561522</td>\n",
              "      <td>0.001797</td>\n",
              "      <td>2671.386433</td>\n",
              "      <td>2877.458016</td>\n",
              "      <td>5886.085241</td>\n",
              "      <td>0.179849</td>\n",
              "      <td>-731.599288</td>\n",
              "      <td>62.555434</td>\n",
              "      <td>24.082515</td>\n",
              "      <td>20.421414</td>\n",
              "      <td>12.142981</td>\n",
              "      <td>6.484322</td>\n",
              "      <td>6.896530</td>\n",
              "      <td>2.541088</td>\n",
              "      <td>0.215154</td>\n",
              "      <td>1.451110</td>\n",
              "      <td>3.896248</td>\n",
              "      <td>3.671828</td>\n",
              "      <td>-0.210701</td>\n",
              "      <td>2.746649</td>\n",
              "      <td>3.675492</td>\n",
              "      <td>2.668196</td>\n",
              "      <td>0.077824</td>\n",
              "      <td>3.321797</td>\n",
              "      <td>-0.782285</td>\n",
              "      <td>3.392373</td>\n",
              "      <td>neutral</td>\n",
              "    </tr>\n",
              "    <tr>\n",
              "      <th>4</th>\n",
              "      <td>03-01-01-01-02-02-15.wav</td>\n",
              "      <td>0.543019</td>\n",
              "      <td>0.004329</td>\n",
              "      <td>2366.081616</td>\n",
              "      <td>2559.472164</td>\n",
              "      <td>5261.645508</td>\n",
              "      <td>0.187453</td>\n",
              "      <td>-634.709460</td>\n",
              "      <td>70.932812</td>\n",
              "      <td>2.774922</td>\n",
              "      <td>14.835037</td>\n",
              "      <td>10.859741</td>\n",
              "      <td>-0.257495</td>\n",
              "      <td>3.952599</td>\n",
              "      <td>-1.254136</td>\n",
              "      <td>-3.198030</td>\n",
              "      <td>1.132633</td>\n",
              "      <td>-0.819777</td>\n",
              "      <td>2.510703</td>\n",
              "      <td>1.103283</td>\n",
              "      <td>1.221286</td>\n",
              "      <td>2.848687</td>\n",
              "      <td>1.129100</td>\n",
              "      <td>0.977723</td>\n",
              "      <td>0.638523</td>\n",
              "      <td>3.192504</td>\n",
              "      <td>1.067305</td>\n",
              "      <td>neutral</td>\n",
              "    </tr>\n",
              "  </tbody>\n",
              "</table>\n",
              "</div>"
            ],
            "text/plain": [
              "                   filename  chroma_stft      rmse  ...    mfcc19    mfcc20    label\n",
              "0  03-01-01-01-01-02-20.wav     0.374177  0.002145  ... -2.571037 -1.924078  neutral\n",
              "1  03-01-01-01-01-01-21.wav     0.514040  0.005617  ... -1.051353 -0.647632  neutral\n",
              "2  03-01-01-01-01-01-17.wav     0.533544  0.003920  ... -0.152282  3.503895  neutral\n",
              "3  03-01-01-01-01-01-11.wav     0.561522  0.001797  ... -0.782285  3.392373  neutral\n",
              "4  03-01-01-01-02-02-15.wav     0.543019  0.004329  ...  3.192504  1.067305  neutral\n",
              "\n",
              "[5 rows x 28 columns]"
            ]
          },
          "metadata": {
            "tags": []
          },
          "execution_count": 17
        }
      ]
    },
    {
      "cell_type": "code",
      "metadata": {
        "id": "ij9FRu5_4wOz",
        "colab_type": "code",
        "colab": {
          "base_uri": "https://localhost:8080/",
          "height": 224
        },
        "outputId": "9a6033f2-6cd7-4402-9560-da8de759140d"
      },
      "source": [
        "data = data.drop(['filename'],axis=1)\n",
        "data.head()"
      ],
      "execution_count": null,
      "outputs": [
        {
          "output_type": "execute_result",
          "data": {
            "text/html": [
              "<div>\n",
              "<style scoped>\n",
              "    .dataframe tbody tr th:only-of-type {\n",
              "        vertical-align: middle;\n",
              "    }\n",
              "\n",
              "    .dataframe tbody tr th {\n",
              "        vertical-align: top;\n",
              "    }\n",
              "\n",
              "    .dataframe thead th {\n",
              "        text-align: right;\n",
              "    }\n",
              "</style>\n",
              "<table border=\"1\" class=\"dataframe\">\n",
              "  <thead>\n",
              "    <tr style=\"text-align: right;\">\n",
              "      <th></th>\n",
              "      <th>chroma_stft</th>\n",
              "      <th>rmse</th>\n",
              "      <th>spectral_centroid</th>\n",
              "      <th>spectral_bandwidth</th>\n",
              "      <th>rolloff</th>\n",
              "      <th>zero_crossing_rate</th>\n",
              "      <th>mfcc1</th>\n",
              "      <th>mfcc2</th>\n",
              "      <th>mfcc3</th>\n",
              "      <th>mfcc4</th>\n",
              "      <th>mfcc5</th>\n",
              "      <th>mfcc6</th>\n",
              "      <th>mfcc7</th>\n",
              "      <th>mfcc8</th>\n",
              "      <th>mfcc9</th>\n",
              "      <th>mfcc10</th>\n",
              "      <th>mfcc11</th>\n",
              "      <th>mfcc12</th>\n",
              "      <th>mfcc13</th>\n",
              "      <th>mfcc14</th>\n",
              "      <th>mfcc15</th>\n",
              "      <th>mfcc16</th>\n",
              "      <th>mfcc17</th>\n",
              "      <th>mfcc18</th>\n",
              "      <th>mfcc19</th>\n",
              "      <th>mfcc20</th>\n",
              "      <th>label</th>\n",
              "    </tr>\n",
              "  </thead>\n",
              "  <tbody>\n",
              "    <tr>\n",
              "      <th>0</th>\n",
              "      <td>0.374177</td>\n",
              "      <td>0.002145</td>\n",
              "      <td>2748.073765</td>\n",
              "      <td>2072.097885</td>\n",
              "      <td>4917.051003</td>\n",
              "      <td>0.284351</td>\n",
              "      <td>-706.432786</td>\n",
              "      <td>35.496908</td>\n",
              "      <td>-8.155031</td>\n",
              "      <td>9.848638</td>\n",
              "      <td>-7.176390</td>\n",
              "      <td>-8.942563</td>\n",
              "      <td>-6.918020</td>\n",
              "      <td>-11.706051</td>\n",
              "      <td>-5.992924</td>\n",
              "      <td>-3.611805</td>\n",
              "      <td>-5.465997</td>\n",
              "      <td>-4.442113</td>\n",
              "      <td>-6.207190</td>\n",
              "      <td>-0.123033</td>\n",
              "      <td>-7.738519</td>\n",
              "      <td>-4.664395</td>\n",
              "      <td>-4.200657</td>\n",
              "      <td>-3.216294</td>\n",
              "      <td>-2.571037</td>\n",
              "      <td>-1.924078</td>\n",
              "      <td>neutral</td>\n",
              "    </tr>\n",
              "    <tr>\n",
              "      <th>1</th>\n",
              "      <td>0.514040</td>\n",
              "      <td>0.005617</td>\n",
              "      <td>2635.308499</td>\n",
              "      <td>2617.477267</td>\n",
              "      <td>5518.337314</td>\n",
              "      <td>0.318498</td>\n",
              "      <td>-593.692179</td>\n",
              "      <td>66.016126</td>\n",
              "      <td>3.537092</td>\n",
              "      <td>13.301964</td>\n",
              "      <td>8.731569</td>\n",
              "      <td>-5.703422</td>\n",
              "      <td>3.174863</td>\n",
              "      <td>-3.922184</td>\n",
              "      <td>-9.186676</td>\n",
              "      <td>-0.027223</td>\n",
              "      <td>-0.879788</td>\n",
              "      <td>-3.754386</td>\n",
              "      <td>-1.044610</td>\n",
              "      <td>2.080261</td>\n",
              "      <td>-2.529025</td>\n",
              "      <td>-1.679427</td>\n",
              "      <td>-3.109143</td>\n",
              "      <td>-0.230662</td>\n",
              "      <td>-1.051353</td>\n",
              "      <td>-0.647632</td>\n",
              "      <td>neutral</td>\n",
              "    </tr>\n",
              "    <tr>\n",
              "      <th>2</th>\n",
              "      <td>0.533544</td>\n",
              "      <td>0.003920</td>\n",
              "      <td>2212.645689</td>\n",
              "      <td>2641.883324</td>\n",
              "      <td>5181.718868</td>\n",
              "      <td>0.150317</td>\n",
              "      <td>-643.827154</td>\n",
              "      <td>74.381502</td>\n",
              "      <td>9.611290</td>\n",
              "      <td>19.574376</td>\n",
              "      <td>17.023197</td>\n",
              "      <td>7.772526</td>\n",
              "      <td>9.730835</td>\n",
              "      <td>-5.034177</td>\n",
              "      <td>-4.459086</td>\n",
              "      <td>6.967548</td>\n",
              "      <td>-1.243890</td>\n",
              "      <td>1.087277</td>\n",
              "      <td>5.137967</td>\n",
              "      <td>2.759696</td>\n",
              "      <td>2.186184</td>\n",
              "      <td>0.945733</td>\n",
              "      <td>-1.015387</td>\n",
              "      <td>-0.527130</td>\n",
              "      <td>-0.152282</td>\n",
              "      <td>3.503895</td>\n",
              "      <td>neutral</td>\n",
              "    </tr>\n",
              "    <tr>\n",
              "      <th>3</th>\n",
              "      <td>0.561522</td>\n",
              "      <td>0.001797</td>\n",
              "      <td>2671.386433</td>\n",
              "      <td>2877.458016</td>\n",
              "      <td>5886.085241</td>\n",
              "      <td>0.179849</td>\n",
              "      <td>-731.599288</td>\n",
              "      <td>62.555434</td>\n",
              "      <td>24.082515</td>\n",
              "      <td>20.421414</td>\n",
              "      <td>12.142981</td>\n",
              "      <td>6.484322</td>\n",
              "      <td>6.896530</td>\n",
              "      <td>2.541088</td>\n",
              "      <td>0.215154</td>\n",
              "      <td>1.451110</td>\n",
              "      <td>3.896248</td>\n",
              "      <td>3.671828</td>\n",
              "      <td>-0.210701</td>\n",
              "      <td>2.746649</td>\n",
              "      <td>3.675492</td>\n",
              "      <td>2.668196</td>\n",
              "      <td>0.077824</td>\n",
              "      <td>3.321797</td>\n",
              "      <td>-0.782285</td>\n",
              "      <td>3.392373</td>\n",
              "      <td>neutral</td>\n",
              "    </tr>\n",
              "    <tr>\n",
              "      <th>4</th>\n",
              "      <td>0.543019</td>\n",
              "      <td>0.004329</td>\n",
              "      <td>2366.081616</td>\n",
              "      <td>2559.472164</td>\n",
              "      <td>5261.645508</td>\n",
              "      <td>0.187453</td>\n",
              "      <td>-634.709460</td>\n",
              "      <td>70.932812</td>\n",
              "      <td>2.774922</td>\n",
              "      <td>14.835037</td>\n",
              "      <td>10.859741</td>\n",
              "      <td>-0.257495</td>\n",
              "      <td>3.952599</td>\n",
              "      <td>-1.254136</td>\n",
              "      <td>-3.198030</td>\n",
              "      <td>1.132633</td>\n",
              "      <td>-0.819777</td>\n",
              "      <td>2.510703</td>\n",
              "      <td>1.103283</td>\n",
              "      <td>1.221286</td>\n",
              "      <td>2.848687</td>\n",
              "      <td>1.129100</td>\n",
              "      <td>0.977723</td>\n",
              "      <td>0.638523</td>\n",
              "      <td>3.192504</td>\n",
              "      <td>1.067305</td>\n",
              "      <td>neutral</td>\n",
              "    </tr>\n",
              "  </tbody>\n",
              "</table>\n",
              "</div>"
            ],
            "text/plain": [
              "   chroma_stft      rmse  spectral_centroid  ...    mfcc19    mfcc20    label\n",
              "0     0.374177  0.002145        2748.073765  ... -2.571037 -1.924078  neutral\n",
              "1     0.514040  0.005617        2635.308499  ... -1.051353 -0.647632  neutral\n",
              "2     0.533544  0.003920        2212.645689  ... -0.152282  3.503895  neutral\n",
              "3     0.561522  0.001797        2671.386433  ... -0.782285  3.392373  neutral\n",
              "4     0.543019  0.004329        2366.081616  ...  3.192504  1.067305  neutral\n",
              "\n",
              "[5 rows x 27 columns]"
            ]
          },
          "metadata": {
            "tags": []
          },
          "execution_count": 18
        }
      ]
    },
    {
      "cell_type": "code",
      "metadata": {
        "id": "3c-3IXoL4yc-",
        "colab_type": "code",
        "colab": {
          "base_uri": "https://localhost:8080/",
          "height": 221
        },
        "outputId": "8052a0c6-a2db-4fbe-c19a-7d17065fd39f"
      },
      "source": [
        "emotion_list = data.iloc[:, -1]\n",
        "emotion_list"
      ],
      "execution_count": null,
      "outputs": [
        {
          "output_type": "execute_result",
          "data": {
            "text/plain": [
              "0         neutral\n",
              "1         neutral\n",
              "2         neutral\n",
              "3         neutral\n",
              "4         neutral\n",
              "          ...    \n",
              "1435    surprised\n",
              "1436    surprised\n",
              "1437    surprised\n",
              "1438    surprised\n",
              "1439    surprised\n",
              "Name: label, Length: 1440, dtype: object"
            ]
          },
          "metadata": {
            "tags": []
          },
          "execution_count": 19
        }
      ]
    },
    {
      "cell_type": "markdown",
      "metadata": {
        "id": "bu-rXscPL2Tl",
        "colab_type": "text"
      },
      "source": [
        "**Scaling and splitting the dataset**"
      ]
    },
    {
      "cell_type": "code",
      "metadata": {
        "id": "vYuLdYFf41xV",
        "colab_type": "code",
        "colab": {}
      },
      "source": [
        "from sklearn.model_selection import train_test_split\n",
        "from sklearn.preprocessing import LabelEncoder, StandardScaler"
      ],
      "execution_count": null,
      "outputs": []
    },
    {
      "cell_type": "code",
      "metadata": {
        "id": "7JnGFf2z43x5",
        "colab_type": "code",
        "colab": {
          "base_uri": "https://localhost:8080/",
          "height": 34
        },
        "outputId": "20b5c4bf-178a-49ed-c690-8617f1edeabd"
      },
      "source": [
        "encoder = LabelEncoder()\n",
        "y = encoder.fit_transform(emotion_list)\n",
        "y"
      ],
      "execution_count": null,
      "outputs": [
        {
          "output_type": "execute_result",
          "data": {
            "text/plain": [
              "array([5, 5, 5, ..., 7, 7, 7])"
            ]
          },
          "metadata": {
            "tags": []
          },
          "execution_count": 21
        }
      ]
    },
    {
      "cell_type": "code",
      "metadata": {
        "id": "spm4d-Rz46w0",
        "colab_type": "code",
        "colab": {}
      },
      "source": [
        "scaler = StandardScaler()\n",
        "X = scaler.fit_transform(np.array(data.iloc[:, :-1], dtype = float))"
      ],
      "execution_count": null,
      "outputs": []
    },
    {
      "cell_type": "code",
      "metadata": {
        "id": "Nspo1ZfW49u2",
        "colab_type": "code",
        "colab": {
          "base_uri": "https://localhost:8080/",
          "height": 119
        },
        "outputId": "b22c10f7-8b79-454c-ba2e-f593416a83b8"
      },
      "source": [
        "X[0]"
      ],
      "execution_count": null,
      "outputs": [
        {
          "output_type": "execute_result",
          "data": {
            "text/plain": [
              "array([-1.50626589, -0.64876449, -0.35292017, -1.7989194 , -1.1004505 ,\n",
              "        0.68486771, -1.15893528, -0.83562663, -0.20503463,  0.22187315,\n",
              "       -0.87147201, -0.69585716, -0.13384697, -0.59416766,  0.24841867,\n",
              "       -0.50618071, -0.3876182 , -0.33983316, -0.93312278,  0.23669793,\n",
              "       -1.43849214, -0.93402998, -0.21187372, -0.81858949, -0.15577634,\n",
              "       -0.45807969])"
            ]
          },
          "metadata": {
            "tags": []
          },
          "execution_count": 23
        }
      ]
    },
    {
      "cell_type": "code",
      "metadata": {
        "id": "gnR3ecMB5AFc",
        "colab_type": "code",
        "colab": {}
      },
      "source": [
        "X_train, X_test, y_train, y_test = train_test_split(X, y, test_size=0.2)"
      ],
      "execution_count": null,
      "outputs": []
    },
    {
      "cell_type": "code",
      "metadata": {
        "id": "Cz9V-_u65Bsv",
        "colab_type": "code",
        "colab": {
          "base_uri": "https://localhost:8080/",
          "height": 85
        },
        "outputId": "a5daad98-5f09-4272-b1c3-62526cc113c7"
      },
      "source": [
        "print(X_train.shape)\n",
        "print(y_train.shape)\n",
        "print(X_test.shape)\n",
        "print(y_test.shape)"
      ],
      "execution_count": null,
      "outputs": [
        {
          "output_type": "stream",
          "text": [
            "(1152, 26)\n",
            "(1152,)\n",
            "(288, 26)\n",
            "(288,)\n"
          ],
          "name": "stdout"
        }
      ]
    },
    {
      "cell_type": "markdown",
      "metadata": {
        "id": "SXWeGLAXMLHS",
        "colab_type": "text"
      },
      "source": [
        "**Building the CNN model**"
      ]
    },
    {
      "cell_type": "code",
      "metadata": {
        "id": "7C2t6syc5EeO",
        "colab_type": "code",
        "colab": {
          "base_uri": "https://localhost:8080/",
          "height": 34
        },
        "outputId": "68391c1e-0109-49c1-9279-bf4223f3c9a8"
      },
      "source": [
        "from keras import regularizers\n",
        "from keras.callbacks import ModelCheckpoint, LearningRateScheduler, EarlyStopping\n",
        "from keras.callbacks import  History, ReduceLROnPlateau, CSVLogger\n",
        "from keras.models import Model, Sequential\n",
        "from keras.layers import Dense, Embedding, LSTM\n",
        "from keras.layers import Input, Flatten, Dropout, Activation, BatchNormalization\n",
        "from keras.layers import Conv1D, MaxPooling1D, AveragePooling1D\n",
        "from keras.preprocessing import sequence\n",
        "from keras.preprocessing.sequence import pad_sequences\n",
        "from keras.preprocessing.text import Tokenizer\n",
        "from keras.utils import np_utils\n",
        "from keras.utils import to_categorical"
      ],
      "execution_count": null,
      "outputs": [
        {
          "output_type": "stream",
          "text": [
            "Using TensorFlow backend.\n"
          ],
          "name": "stderr"
        }
      ]
    },
    {
      "cell_type": "code",
      "metadata": {
        "id": "DvT8og7U5RfQ",
        "colab_type": "code",
        "colab": {}
      },
      "source": [
        "x_traincnn = np.expand_dims(X_train, axis=2)\n",
        "x_testcnn = np.expand_dims(X_test, axis=2)"
      ],
      "execution_count": null,
      "outputs": []
    },
    {
      "cell_type": "code",
      "metadata": {
        "id": "_ayLN_kkXi1r",
        "colab_type": "code",
        "colab": {
          "base_uri": "https://localhost:8080/",
          "height": 34
        },
        "outputId": "ce3dabaa-9009-40f8-b410-f01f624d3d00"
      },
      "source": [
        "x_g = np.expand_dims(X, axis=2)\n",
        "x_g.shape"
      ],
      "execution_count": null,
      "outputs": [
        {
          "output_type": "execute_result",
          "data": {
            "text/plain": [
              "(1440, 26, 1)"
            ]
          },
          "metadata": {
            "tags": []
          },
          "execution_count": 55
        }
      ]
    },
    {
      "cell_type": "markdown",
      "metadata": {
        "id": "IiwwYLJgMQ0o",
        "colab_type": "text"
      },
      "source": [
        "**Defining the model architecture**"
      ]
    },
    {
      "cell_type": "code",
      "metadata": {
        "id": "30MIvSzI5W7M",
        "colab_type": "code",
        "colab": {}
      },
      "source": [
        "model = Sequential()\n",
        "\n",
        "model.add(Conv1D(256, 8, padding='same',input_shape=(X_train.shape[1],1)))\n",
        "model.add(Activation('relu'))\n",
        "\n",
        "model.add(Conv1D(256, 8, padding='same'))\n",
        "model.add(BatchNormalization())\n",
        "model.add(Activation('relu'))\n",
        "model.add(Dropout(0.25))\n",
        "model.add(MaxPooling1D(pool_size=(8)))\n",
        "\n",
        "model.add(Conv1D(128, 8, padding='same'))\n",
        "model.add(Activation('relu'))\n",
        "\n",
        "model.add(Conv1D(128, 8, padding='same'))\n",
        "model.add(Activation('relu'))\n",
        "\n",
        "model.add(Conv1D(128, 8, padding='same'))\n",
        "model.add(Activation('relu'))\n",
        "\n",
        "model.add(Conv1D(128, 8, padding='same'))\n",
        "model.add(BatchNormalization())\n",
        "model.add(Activation('relu'))\n",
        "model.add(Dropout(0.25))\n",
        "model.add(MaxPooling1D(pool_size=(2)))\n",
        "\n",
        "model.add(Conv1D(64, 8, padding='same'))\n",
        "model.add(Activation('relu'))\n",
        "\n",
        "model.add(Conv1D(64, 8, padding='same'))\n",
        "model.add(Activation('relu'))\n",
        "\n",
        "model.add(Flatten())\n",
        "# Edit according to target class no.\n",
        "model.add(Dense(8))\n",
        "model.add(Activation('softmax'))\n"
      ],
      "execution_count": null,
      "outputs": []
    },
    {
      "cell_type": "markdown",
      "metadata": {
        "id": "jFA4GlY0MdP_",
        "colab_type": "text"
      },
      "source": [
        "**Compiling and training the model**"
      ]
    },
    {
      "cell_type": "code",
      "metadata": {
        "id": "OKszroKj5nmk",
        "colab_type": "code",
        "colab": {}
      },
      "source": [
        "model.compile(optimizer='adam',\n",
        "              loss='sparse_categorical_crossentropy',\n",
        "              metrics=['accuracy'])"
      ],
      "execution_count": null,
      "outputs": []
    },
    {
      "cell_type": "code",
      "metadata": {
        "id": "g4zwt3br5tS8",
        "colab_type": "code",
        "colab": {
          "base_uri": "https://localhost:8080/",
          "height": 1000
        },
        "outputId": "20816b4b-e4dc-43eb-e69c-deb0d5b15df8"
      },
      "source": [
        "history = model.fit(x_g,\n",
        "                    y,\n",
        "                    epochs=70,\n",
        "                    batch_size=16,validation_split=0.20)"
      ],
      "execution_count": null,
      "outputs": [
        {
          "output_type": "stream",
          "text": [
            "Train on 1152 samples, validate on 288 samples\n",
            "Epoch 1/70\n",
            "1152/1152 [==============================] - 7s 6ms/step - loss: 1.8823 - accuracy: 0.2283 - val_loss: 2.5599 - val_accuracy: 0.0000e+00\n",
            "Epoch 2/70\n",
            "1152/1152 [==============================] - 6s 6ms/step - loss: 1.6405 - accuracy: 0.3220 - val_loss: 2.9150 - val_accuracy: 0.0000e+00\n",
            "Epoch 3/70\n",
            "1152/1152 [==============================] - 6s 5ms/step - loss: 1.4974 - accuracy: 0.3845 - val_loss: 3.9618 - val_accuracy: 0.0312\n",
            "Epoch 4/70\n",
            "1152/1152 [==============================] - 6s 6ms/step - loss: 1.4243 - accuracy: 0.3984 - val_loss: 5.4285 - val_accuracy: 0.0208\n",
            "Epoch 5/70\n",
            "1152/1152 [==============================] - 6s 5ms/step - loss: 1.3763 - accuracy: 0.4332 - val_loss: 5.4064 - val_accuracy: 0.0312\n",
            "Epoch 6/70\n",
            "1152/1152 [==============================] - 6s 6ms/step - loss: 1.2558 - accuracy: 0.4887 - val_loss: 7.1267 - val_accuracy: 0.0312\n",
            "Epoch 7/70\n",
            "1152/1152 [==============================] - 6s 6ms/step - loss: 1.2310 - accuracy: 0.4931 - val_loss: 7.7376 - val_accuracy: 0.0139\n",
            "Epoch 8/70\n",
            "1152/1152 [==============================] - 6s 6ms/step - loss: 1.1617 - accuracy: 0.5243 - val_loss: 6.4092 - val_accuracy: 0.0382\n",
            "Epoch 9/70\n",
            "1152/1152 [==============================] - 6s 6ms/step - loss: 1.1065 - accuracy: 0.5512 - val_loss: 7.5071 - val_accuracy: 0.0382\n",
            "Epoch 10/70\n",
            "1152/1152 [==============================] - 6s 6ms/step - loss: 1.0747 - accuracy: 0.5764 - val_loss: 7.4263 - val_accuracy: 0.0521\n",
            "Epoch 11/70\n",
            "1152/1152 [==============================] - 6s 6ms/step - loss: 1.0025 - accuracy: 0.5938 - val_loss: 6.7666 - val_accuracy: 0.0417\n",
            "Epoch 12/70\n",
            "1152/1152 [==============================] - 6s 6ms/step - loss: 0.9784 - accuracy: 0.6102 - val_loss: 7.9154 - val_accuracy: 0.0347\n",
            "Epoch 13/70\n",
            "1152/1152 [==============================] - 6s 6ms/step - loss: 0.8717 - accuracy: 0.6632 - val_loss: 8.2686 - val_accuracy: 0.0347\n",
            "Epoch 14/70\n",
            "1152/1152 [==============================] - 6s 6ms/step - loss: 0.8961 - accuracy: 0.6441 - val_loss: 7.0808 - val_accuracy: 0.0590\n",
            "Epoch 15/70\n",
            "1152/1152 [==============================] - 6s 5ms/step - loss: 0.8419 - accuracy: 0.6745 - val_loss: 7.4794 - val_accuracy: 0.1632\n",
            "Epoch 16/70\n",
            "1152/1152 [==============================] - 6s 6ms/step - loss: 0.8189 - accuracy: 0.6797 - val_loss: 7.5994 - val_accuracy: 0.1597\n",
            "Epoch 17/70\n",
            "1152/1152 [==============================] - 6s 5ms/step - loss: 0.7163 - accuracy: 0.7257 - val_loss: 8.4773 - val_accuracy: 0.1215\n",
            "Epoch 18/70\n",
            "1152/1152 [==============================] - 6s 6ms/step - loss: 0.7717 - accuracy: 0.7031 - val_loss: 7.1894 - val_accuracy: 0.0382\n",
            "Epoch 19/70\n",
            "1152/1152 [==============================] - 6s 6ms/step - loss: 0.6310 - accuracy: 0.7613 - val_loss: 9.5217 - val_accuracy: 0.1424\n",
            "Epoch 20/70\n",
            "1152/1152 [==============================] - 6s 5ms/step - loss: 0.6380 - accuracy: 0.7587 - val_loss: 8.1151 - val_accuracy: 0.1111\n",
            "Epoch 21/70\n",
            "1152/1152 [==============================] - 6s 6ms/step - loss: 0.6773 - accuracy: 0.7517 - val_loss: 8.4903 - val_accuracy: 0.0799\n",
            "Epoch 22/70\n",
            "1152/1152 [==============================] - 6s 5ms/step - loss: 0.6018 - accuracy: 0.7665 - val_loss: 9.9345 - val_accuracy: 0.1146\n",
            "Epoch 23/70\n",
            "1152/1152 [==============================] - 6s 6ms/step - loss: 0.6053 - accuracy: 0.7847 - val_loss: 8.1588 - val_accuracy: 0.1250\n",
            "Epoch 24/70\n",
            "1152/1152 [==============================] - 6s 6ms/step - loss: 0.5472 - accuracy: 0.7951 - val_loss: 7.9072 - val_accuracy: 0.0521\n",
            "Epoch 25/70\n",
            "1152/1152 [==============================] - 6s 6ms/step - loss: 0.4913 - accuracy: 0.8168 - val_loss: 10.0828 - val_accuracy: 0.1389\n",
            "Epoch 26/70\n",
            "1152/1152 [==============================] - 6s 6ms/step - loss: 0.5379 - accuracy: 0.8003 - val_loss: 8.3372 - val_accuracy: 0.1458\n",
            "Epoch 27/70\n",
            "1152/1152 [==============================] - 6s 5ms/step - loss: 0.4560 - accuracy: 0.8247 - val_loss: 9.7795 - val_accuracy: 0.1076\n",
            "Epoch 28/70\n",
            "1152/1152 [==============================] - 6s 6ms/step - loss: 0.4713 - accuracy: 0.8247 - val_loss: 9.3989 - val_accuracy: 0.1493\n",
            "Epoch 29/70\n",
            "1152/1152 [==============================] - 6s 5ms/step - loss: 0.4326 - accuracy: 0.8403 - val_loss: 9.1418 - val_accuracy: 0.1806\n",
            "Epoch 30/70\n",
            "1152/1152 [==============================] - 6s 6ms/step - loss: 0.4181 - accuracy: 0.8455 - val_loss: 9.9098 - val_accuracy: 0.1597\n",
            "Epoch 31/70\n",
            "1152/1152 [==============================] - 6s 6ms/step - loss: 0.3646 - accuracy: 0.8689 - val_loss: 9.9600 - val_accuracy: 0.1458\n",
            "Epoch 32/70\n",
            "1152/1152 [==============================] - 6s 6ms/step - loss: 0.3796 - accuracy: 0.8602 - val_loss: 10.1133 - val_accuracy: 0.2083\n",
            "Epoch 33/70\n",
            "1152/1152 [==============================] - 6s 5ms/step - loss: 0.3899 - accuracy: 0.8559 - val_loss: 9.3656 - val_accuracy: 0.1632\n",
            "Epoch 34/70\n",
            "1152/1152 [==============================] - 6s 5ms/step - loss: 0.3466 - accuracy: 0.8663 - val_loss: 10.4536 - val_accuracy: 0.1007\n",
            "Epoch 35/70\n",
            "1152/1152 [==============================] - 6s 5ms/step - loss: 0.2862 - accuracy: 0.8889 - val_loss: 11.6818 - val_accuracy: 0.1076\n",
            "Epoch 36/70\n",
            "1152/1152 [==============================] - 6s 5ms/step - loss: 0.3216 - accuracy: 0.8906 - val_loss: 10.1375 - val_accuracy: 0.2049\n",
            "Epoch 37/70\n",
            "1152/1152 [==============================] - 6s 6ms/step - loss: 0.2895 - accuracy: 0.8993 - val_loss: 10.1033 - val_accuracy: 0.1597\n",
            "Epoch 38/70\n",
            "1152/1152 [==============================] - 6s 5ms/step - loss: 0.2810 - accuracy: 0.9010 - val_loss: 12.3828 - val_accuracy: 0.0521\n",
            "Epoch 39/70\n",
            "1152/1152 [==============================] - 6s 6ms/step - loss: 0.2981 - accuracy: 0.8924 - val_loss: 11.8575 - val_accuracy: 0.1806\n",
            "Epoch 40/70\n",
            "1152/1152 [==============================] - 8s 7ms/step - loss: 0.3163 - accuracy: 0.9019 - val_loss: 10.3127 - val_accuracy: 0.1493\n",
            "Epoch 41/70\n",
            "1152/1152 [==============================] - 7s 6ms/step - loss: 0.3269 - accuracy: 0.8811 - val_loss: 8.9858 - val_accuracy: 0.1493\n",
            "Epoch 42/70\n",
            "1152/1152 [==============================] - 6s 5ms/step - loss: 0.2647 - accuracy: 0.9010 - val_loss: 10.8066 - val_accuracy: 0.1562\n",
            "Epoch 43/70\n",
            "1152/1152 [==============================] - 6s 6ms/step - loss: 0.2049 - accuracy: 0.9288 - val_loss: 10.2948 - val_accuracy: 0.1319\n",
            "Epoch 44/70\n",
            "1152/1152 [==============================] - 6s 6ms/step - loss: 0.2357 - accuracy: 0.9175 - val_loss: 10.7073 - val_accuracy: 0.1389\n",
            "Epoch 45/70\n",
            "1152/1152 [==============================] - 6s 6ms/step - loss: 0.2290 - accuracy: 0.9219 - val_loss: 11.5468 - val_accuracy: 0.1319\n",
            "Epoch 46/70\n",
            "1152/1152 [==============================] - 6s 5ms/step - loss: 0.2357 - accuracy: 0.9210 - val_loss: 10.1904 - val_accuracy: 0.1493\n",
            "Epoch 47/70\n",
            "1152/1152 [==============================] - 6s 5ms/step - loss: 0.1883 - accuracy: 0.9314 - val_loss: 11.6625 - val_accuracy: 0.1042\n",
            "Epoch 48/70\n",
            "1152/1152 [==============================] - 6s 6ms/step - loss: 0.2050 - accuracy: 0.9314 - val_loss: 13.2579 - val_accuracy: 0.1667\n",
            "Epoch 49/70\n",
            "1152/1152 [==============================] - 6s 6ms/step - loss: 0.2364 - accuracy: 0.9227 - val_loss: 10.6988 - val_accuracy: 0.1562\n",
            "Epoch 50/70\n",
            "1152/1152 [==============================] - 6s 5ms/step - loss: 0.1962 - accuracy: 0.9332 - val_loss: 12.1868 - val_accuracy: 0.1493\n",
            "Epoch 51/70\n",
            "1152/1152 [==============================] - 6s 6ms/step - loss: 0.2246 - accuracy: 0.9236 - val_loss: 12.2785 - val_accuracy: 0.1076\n",
            "Epoch 52/70\n",
            "1152/1152 [==============================] - 6s 6ms/step - loss: 0.1646 - accuracy: 0.9453 - val_loss: 10.9117 - val_accuracy: 0.1424\n",
            "Epoch 53/70\n",
            "1152/1152 [==============================] - 6s 6ms/step - loss: 0.2164 - accuracy: 0.9184 - val_loss: 10.8552 - val_accuracy: 0.1354\n",
            "Epoch 54/70\n",
            "1152/1152 [==============================] - 6s 6ms/step - loss: 0.1469 - accuracy: 0.9531 - val_loss: 12.3490 - val_accuracy: 0.1944\n",
            "Epoch 55/70\n",
            "1152/1152 [==============================] - 6s 5ms/step - loss: 0.1371 - accuracy: 0.9549 - val_loss: 11.6917 - val_accuracy: 0.1215\n",
            "Epoch 56/70\n",
            "1152/1152 [==============================] - 6s 6ms/step - loss: 0.2030 - accuracy: 0.9332 - val_loss: 10.4145 - val_accuracy: 0.1806\n",
            "Epoch 57/70\n",
            "1152/1152 [==============================] - 6s 6ms/step - loss: 0.1488 - accuracy: 0.9479 - val_loss: 11.0832 - val_accuracy: 0.1285\n",
            "Epoch 58/70\n",
            "1152/1152 [==============================] - 6s 6ms/step - loss: 0.1603 - accuracy: 0.9427 - val_loss: 12.5336 - val_accuracy: 0.1597\n",
            "Epoch 59/70\n",
            "1152/1152 [==============================] - 6s 6ms/step - loss: 0.1589 - accuracy: 0.9462 - val_loss: 11.5153 - val_accuracy: 0.1840\n",
            "Epoch 60/70\n",
            "1152/1152 [==============================] - 6s 6ms/step - loss: 0.0758 - accuracy: 0.9774 - val_loss: 12.4319 - val_accuracy: 0.1597\n",
            "Epoch 61/70\n",
            "1152/1152 [==============================] - 6s 6ms/step - loss: 0.1578 - accuracy: 0.9479 - val_loss: 12.3905 - val_accuracy: 0.2188\n",
            "Epoch 62/70\n",
            "1152/1152 [==============================] - 6s 6ms/step - loss: 0.2189 - accuracy: 0.9193 - val_loss: 12.4285 - val_accuracy: 0.1319\n",
            "Epoch 63/70\n",
            "1152/1152 [==============================] - 6s 6ms/step - loss: 0.1526 - accuracy: 0.9540 - val_loss: 11.4274 - val_accuracy: 0.2222\n",
            "Epoch 64/70\n",
            "1152/1152 [==============================] - 6s 6ms/step - loss: 0.1704 - accuracy: 0.9384 - val_loss: 11.6866 - val_accuracy: 0.1597\n",
            "Epoch 65/70\n",
            "1152/1152 [==============================] - 6s 6ms/step - loss: 0.1199 - accuracy: 0.9661 - val_loss: 11.7698 - val_accuracy: 0.1736\n",
            "Epoch 66/70\n",
            "1152/1152 [==============================] - 6s 6ms/step - loss: 0.1174 - accuracy: 0.9635 - val_loss: 13.1425 - val_accuracy: 0.1667\n",
            "Epoch 67/70\n",
            "1152/1152 [==============================] - 6s 6ms/step - loss: 0.1426 - accuracy: 0.9557 - val_loss: 13.2482 - val_accuracy: 0.1111\n",
            "Epoch 68/70\n",
            "1152/1152 [==============================] - 6s 6ms/step - loss: 0.1412 - accuracy: 0.9488 - val_loss: 12.0405 - val_accuracy: 0.1736\n",
            "Epoch 69/70\n",
            "1152/1152 [==============================] - 6s 6ms/step - loss: 0.1207 - accuracy: 0.9601 - val_loss: 12.2509 - val_accuracy: 0.1944\n",
            "Epoch 70/70\n",
            "1152/1152 [==============================] - 6s 5ms/step - loss: 0.1465 - accuracy: 0.9453 - val_loss: 11.4072 - val_accuracy: 0.1354\n"
          ],
          "name": "stdout"
        }
      ]
    },
    {
      "cell_type": "markdown",
      "metadata": {
        "id": "pcl47Cv7MhjO",
        "colab_type": "text"
      },
      "source": [
        "**Evaluating the model**"
      ]
    },
    {
      "cell_type": "code",
      "metadata": {
        "id": "1L27aUqX76da",
        "colab_type": "code",
        "colab": {
          "base_uri": "https://localhost:8080/",
          "height": 51
        },
        "outputId": "22896f80-c9d3-4d80-f251-e0c6356f4cbd"
      },
      "source": [
        "test_loss, test_acc = model.evaluate(x_testcnn,y_test)\n",
        "print('test_acc: ',test_acc)"
      ],
      "execution_count": null,
      "outputs": [
        {
          "output_type": "stream",
          "text": [
            "288/288 [==============================] - 0s 715us/step\n",
            "test_acc:  0.8298611044883728\n"
          ],
          "name": "stdout"
        }
      ]
    },
    {
      "cell_type": "code",
      "metadata": {
        "id": "wMrrf3vX8NsJ",
        "colab_type": "code",
        "colab": {
          "base_uri": "https://localhost:8080/",
          "height": 255
        },
        "outputId": "cb8903e1-daf8-48f2-adc0-4f6368c608d2"
      },
      "source": [
        "y_test"
      ],
      "execution_count": null,
      "outputs": [
        {
          "output_type": "execute_result",
          "data": {
            "text/plain": [
              "array([2, 6, 7, 1, 4, 1, 7, 1, 0, 6, 4, 1, 0, 7, 0, 0, 2, 3, 5, 7, 4, 2,\n",
              "       1, 4, 3, 4, 7, 5, 2, 2, 6, 7, 7, 3, 7, 5, 3, 3, 6, 7, 3, 4, 4, 2,\n",
              "       0, 2, 3, 5, 0, 0, 5, 2, 5, 0, 4, 3, 5, 2, 0, 6, 4, 2, 5, 6, 4, 4,\n",
              "       1, 2, 0, 2, 1, 7, 6, 7, 2, 7, 4, 7, 1, 1, 7, 2, 2, 1, 2, 2, 5, 7,\n",
              "       6, 6, 2, 5, 6, 1, 3, 7, 3, 6, 4, 1, 2, 4, 7, 1, 7, 3, 1, 4, 2, 0,\n",
              "       3, 0, 7, 4, 4, 4, 7, 0, 1, 6, 0, 4, 7, 3, 7, 1, 2, 6, 3, 5, 2, 2,\n",
              "       6, 5, 4, 0, 2, 2, 2, 2, 5, 7, 7, 3, 1, 3, 7, 4, 3, 4, 4, 1, 5, 7,\n",
              "       6, 0, 6, 5, 4, 6, 0, 6, 3, 6, 5, 1, 7, 6, 3, 3, 6, 5, 5, 7, 3, 4,\n",
              "       2, 3, 6, 0, 0, 4, 0, 1, 7, 2, 0, 0, 6, 3, 1, 5, 1, 4, 2, 7, 1, 1,\n",
              "       7, 4, 2, 6, 0, 1, 0, 0, 0, 4, 1, 3, 5, 4, 1, 7, 3, 7, 1, 5, 1, 1,\n",
              "       0, 3, 1, 4, 7, 0, 1, 7, 4, 6, 1, 1, 7, 3, 1, 1, 3, 4, 1, 5, 7, 0,\n",
              "       1, 6, 0, 2, 4, 7, 6, 7, 2, 6, 4, 1, 7, 4, 0, 6, 0, 7, 1, 6, 6, 2,\n",
              "       4, 6, 4, 3, 2, 5, 0, 7, 0, 6, 4, 5, 4, 7, 6, 2, 5, 4, 4, 6, 6, 7,\n",
              "       6, 4])"
            ]
          },
          "metadata": {
            "tags": []
          },
          "execution_count": 36
        }
      ]
    },
    {
      "cell_type": "code",
      "metadata": {
        "id": "AcKrutsTHXzV",
        "colab_type": "code",
        "colab": {
          "base_uri": "https://localhost:8080/",
          "height": 255
        },
        "outputId": "f8560d5d-526f-4b69-9113-d9918d5af4d6"
      },
      "source": [
        "model.predict_classes(x_testcnn)"
      ],
      "execution_count": null,
      "outputs": [
        {
          "output_type": "execute_result",
          "data": {
            "text/plain": [
              "array([2, 5, 7, 1, 7, 5, 2, 5, 0, 5, 4, 1, 0, 7, 0, 0, 4, 4, 2, 7, 4, 0,\n",
              "       1, 4, 7, 7, 4, 1, 2, 2, 7, 7, 7, 7, 7, 2, 4, 0, 2, 2, 7, 4, 4, 2,\n",
              "       0, 2, 4, 5, 0, 0, 2, 2, 3, 7, 4, 3, 5, 2, 0, 2, 4, 2, 5, 6, 7, 4,\n",
              "       1, 2, 2, 2, 2, 7, 6, 7, 7, 7, 4, 7, 1, 1, 7, 2, 2, 1, 7, 2, 4, 7,\n",
              "       4, 7, 4, 5, 6, 1, 7, 7, 3, 6, 3, 5, 5, 7, 7, 1, 7, 3, 5, 7, 2, 0,\n",
              "       0, 0, 7, 4, 4, 4, 7, 0, 1, 3, 2, 5, 7, 3, 7, 1, 2, 4, 7, 2, 2, 7,\n",
              "       6, 5, 4, 2, 2, 2, 2, 2, 2, 7, 7, 3, 1, 4, 7, 3, 7, 4, 3, 1, 7, 7,\n",
              "       2, 7, 3, 4, 4, 7, 0, 5, 3, 6, 5, 1, 7, 2, 3, 3, 5, 5, 5, 7, 5, 4,\n",
              "       7, 3, 6, 0, 2, 4, 7, 1, 7, 2, 0, 0, 4, 3, 2, 1, 1, 4, 2, 7, 5, 5,\n",
              "       7, 4, 2, 5, 4, 1, 4, 0, 0, 4, 1, 3, 6, 7, 5, 4, 3, 7, 1, 6, 1, 1,\n",
              "       0, 3, 5, 7, 7, 0, 1, 7, 4, 5, 1, 1, 7, 3, 1, 2, 3, 4, 1, 3, 7, 0,\n",
              "       5, 3, 0, 2, 4, 7, 6, 7, 2, 6, 4, 2, 4, 4, 0, 3, 0, 7, 1, 1, 7, 2,\n",
              "       4, 4, 4, 3, 2, 5, 0, 4, 4, 6, 4, 5, 4, 4, 5, 4, 1, 7, 4, 1, 5, 7,\n",
              "       5, 4])"
            ]
          },
          "metadata": {
            "tags": []
          },
          "execution_count": 37
        }
      ]
    },
    {
      "cell_type": "code",
      "metadata": {
        "id": "S7LsotjXHeo5",
        "colab_type": "code",
        "colab": {
          "base_uri": "https://localhost:8080/",
          "height": 34
        },
        "outputId": "102b9394-b6e0-4413-9a6a-758472d1d959"
      },
      "source": [
        "x_testcnn.shape"
      ],
      "execution_count": null,
      "outputs": [
        {
          "output_type": "execute_result",
          "data": {
            "text/plain": [
              "(288, 26, 1)"
            ]
          },
          "metadata": {
            "tags": []
          },
          "execution_count": 65
        }
      ]
    },
    {
      "cell_type": "markdown",
      "metadata": {
        "id": "rLBI3zqSaqiw",
        "colab_type": "text"
      },
      "source": [
        "**Predict on custom audio file**"
      ]
    },
    {
      "cell_type": "code",
      "metadata": {
        "id": "25WWxiMFTh1h",
        "colab_type": "code",
        "colab": {}
      },
      "source": [
        "def predict(filename,model):\n",
        "  y, sr = librosa.load(filename)\n",
        "\n",
        "  chroma_stft = librosa.feature.chroma_stft(y=y, sr=sr)\n",
        "  rmse = librosa.feature.rmse(y=y)\n",
        "  spec_cent = librosa.feature.spectral_centroid(y=y, sr=sr)\n",
        "  spec_bw = librosa.feature.spectral_bandwidth(y=y, sr=sr)\n",
        "  rolloff = librosa.feature.spectral_rolloff(y=y, sr=sr)\n",
        "  zcr = librosa.feature.zero_crossing_rate(y)\n",
        "  mfcc = librosa.feature.mfcc(y=y, sr=sr)\n",
        "      # to_append = f'{filename}'\n",
        "  to_append = f'{np.mean(chroma_stft)} {np.mean(rmse)} {np.mean(spec_cent)} {np.mean(spec_bw)} {np.mean(rolloff)} {np.mean(zcr)}' \n",
        "      \n",
        "  for e in mfcc:\n",
        "    to_append += f' {np.mean(e)}'\n",
        "\n",
        "  my_x=to_append.split()\n",
        "  my_xe = np.expand_dims(my_x,axis=1)\n",
        "  my_xee = np.expand_dims(my_xe,axis=0)\n",
        "\n",
        "  arr=model.predict_classes(my_xee)\n",
        "\n",
        "  return labels[arr[0]]\n",
        "  "
      ],
      "execution_count": null,
      "outputs": []
    },
    {
      "cell_type": "code",
      "metadata": {
        "id": "__0X5KJZXTAW",
        "colab_type": "code",
        "colab": {
          "base_uri": "https://localhost:8080/",
          "height": 35
        },
        "outputId": "b4376ac7-c285-44f8-d837-db5f26b46e7d"
      },
      "source": [
        "predict('p1.mpeg',model)"
      ],
      "execution_count": null,
      "outputs": [
        {
          "output_type": "execute_result",
          "data": {
            "application/vnd.google.colaboratory.intrinsic": {
              "type": "string"
            },
            "text/plain": [
              "'sad'"
            ]
          },
          "metadata": {
            "tags": []
          },
          "execution_count": 92
        }
      ]
    },
    {
      "cell_type": "markdown",
      "metadata": {
        "id": "_HhHQ_2iav6W",
        "colab_type": "text"
      },
      "source": [
        "**Saving the model**"
      ]
    },
    {
      "cell_type": "code",
      "metadata": {
        "id": "vAZm4UesayrA",
        "colab_type": "code",
        "colab": {}
      },
      "source": [
        "def save(model):\n",
        "  model_json = model.to_json()\n",
        "  with open(\"model.json\", \"w\") as json_file:\n",
        "      json_file.write(model_json)\n",
        "  # serialize weights to HDF5\n",
        "  model.save_weights(\"model.h5\")\n",
        "  print(\"Saved model to disk\")"
      ],
      "execution_count": null,
      "outputs": []
    },
    {
      "cell_type": "code",
      "metadata": {
        "id": "wLcxifu8a2sY",
        "colab_type": "code",
        "colab": {
          "base_uri": "https://localhost:8080/",
          "height": 34
        },
        "outputId": "dc49046a-3192-4fae-d481-9005ac650c87"
      },
      "source": [
        "save(model)"
      ],
      "execution_count": null,
      "outputs": [
        {
          "output_type": "stream",
          "text": [
            "Saved model to disk\n"
          ],
          "name": "stdout"
        }
      ]
    },
    {
      "cell_type": "markdown",
      "metadata": {
        "id": "4wFeQYr1bAnA",
        "colab_type": "text"
      },
      "source": [
        "**Load saved model**"
      ]
    },
    {
      "cell_type": "code",
      "metadata": {
        "id": "bFeQEn0Ka4Bi",
        "colab_type": "code",
        "colab": {}
      },
      "source": [
        "from keras.models import model_from_json\n",
        "\n",
        "def load(jsonfile,h5file):\n",
        "  json_file = open(jsonfile, 'r')\n",
        "  loaded_model_json = json_file.read()\n",
        "  json_file.close()\n",
        "  loaded_model = model_from_json(loaded_model_json)\n",
        "  # load weights into new model\n",
        "  loaded_model.load_weights(h5file)\n",
        "\n",
        "  loaded_model.compile(optimizer='adam',\n",
        "              loss='sparse_categorical_crossentropy',\n",
        "              metrics=['accuracy'])\n",
        "  print(\"Loaded model from disk\")\n",
        "\n",
        "  return loaded_model "
      ],
      "execution_count": null,
      "outputs": []
    },
    {
      "cell_type": "code",
      "metadata": {
        "id": "0x_8HBVra_a7",
        "colab_type": "code",
        "colab": {
          "base_uri": "https://localhost:8080/",
          "height": 34
        },
        "outputId": "a61b10d2-fe65-4ca6-c415-c613e4631233"
      },
      "source": [
        "loaded_model=load('model.json','model.h5')"
      ],
      "execution_count": null,
      "outputs": [
        {
          "output_type": "stream",
          "text": [
            "Loaded model from disk\n"
          ],
          "name": "stdout"
        }
      ]
    },
    {
      "cell_type": "code",
      "metadata": {
        "id": "X1gY6aAfbsys",
        "colab_type": "code",
        "colab": {
          "base_uri": "https://localhost:8080/",
          "height": 51
        },
        "outputId": "beed3b98-55f9-4e88-cc4b-b1cba623b360"
      },
      "source": [
        "test_loss, test_acc = loaded_model.evaluat    e(x_testcnn,y_test)\n",
        "print('test_acc: ',test_acc)"
      ],
      "execution_count": null,
      "outputs": [
        {
          "output_type": "stream",
          "text": [
            "288/288 [==============================] - 0s 930us/step\n",
            "test_acc:  0.6319444179534912\n"
          ],
          "name": "stdout"
        }
      ]
    },
    {
      "cell_type": "markdown",
      "metadata": {
        "id": "NJR43AH5S1s3",
        "colab_type": "text"
      },
      "source": [
        "**Interpeting and visualizing our model**"
      ]
    },
    {
      "cell_type": "code",
      "metadata": {
        "id": "E1fwhozGb2RP",
        "colab_type": "code",
        "colab": {
          "base_uri": "https://localhost:8080/",
          "height": 1000
        },
        "outputId": "2ac25f88-1fdf-4994-ca65-bad902ce0ac3"
      },
      "source": [
        "from keras.utils.vis_utils import plot_model\n",
        "\n",
        "plot_model(model, to_file='model_plot.png', show_shapes=True, show_layer_names=True)"
      ],
      "execution_count": null,
      "outputs": [
        {
          "output_type": "execute_result",
          "data": {
            "image/png": "[encoded data removed]",
            "text/plain": [
              "<IPython.core.display.Image object>"
            ]
          },
          "metadata": {
            "tags": []
          },
          "execution_count": 50
        }
      ]
    },
    {
      "cell_type": "code",
      "metadata": {
        "id": "dji9fD8OTQtt",
        "colab_type": "code",
        "colab": {
          "base_uri": "https://localhost:8080/",
          "height": 295
        },
        "outputId": "0c250ef4-e7bb-4a06-9d59-3712a84fbb75"
      },
      "source": [
        "import matplotlib.pyplot as plt\n",
        "\n",
        "plt.plot(history.history['accuracy'])\n",
        "plt.plot(history.history['val_accuracy'])\n",
        "plt.title('model accuracy')\n",
        "plt.ylabel('accuracy')\n",
        "plt.xlabel('epoch')\n",
        "plt.legend(['train', 'test'], loc='upper left')\n",
        "plt.show()"
      ],
      "execution_count": null,
      "outputs": [
        {
          "output_type": "display_data",
          "data": {
            "image/png": "[encoded data removed]",
            "text/plain": [
              "<Figure size 432x288 with 1 Axes>"
            ]
          },
          "metadata": {
            "tags": [],
            "needs_background": "light"
          }
        }
      ]
    },
    {
      "cell_type": "code",
      "metadata": {
        "id": "2Li7_OcqXHUb",
        "colab_type": "code",
        "colab": {}
      },
      "source": [
        "plt.plot(history.history['loss'])\n",
        "plt.plot(history.history['val_loss'])\n",
        "plt.title('model loss')\n",
        "plt.ylabel('loss')\n",
        "plt.xlabel('epoch')\n",
        "plt.legend(['train', 'test'], loc='upper left')\n",
        "plt.show()"
      ],
      "execution_count": null,
      "outputs": []
    },
    {
      "cell_type": "code",
      "metadata": {
        "id": "eNAf83LjXUqD",
        "colab_type": "code",
        "colab": {}
      },
      "source": [
        ""
      ],
      "execution_count": null,
      "outputs": []
    }
  ]
}